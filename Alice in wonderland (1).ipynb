{
 "cells": [
  {
   "cell_type": "code",
   "execution_count": 2,
   "metadata": {},
   "outputs": [],
   "source": [
    "from bs4 import BeautifulSoup \n",
    "import re\n",
    "import urllib"
   ]
  },
  {
   "cell_type": "code",
   "execution_count": 7,
   "metadata": {},
   "outputs": [],
   "source": [
    "url = 'https://www.cs.cmu.edu/~rgs/alice-table.html'\n",
    "urlread = urllib.request.urlopen(url)"
   ]
  },
  {
   "cell_type": "code",
   "execution_count": 8,
   "metadata": {},
   "outputs": [],
   "source": [
    "soup = BeautifulSoup(urlread.read())"
   ]
  },
  {
   "cell_type": "code",
   "execution_count": 42,
   "metadata": {},
   "outputs": [
    {
     "data": {
      "text/plain": [
       "[<h1>Alice's Adventures in Wonderland</h1>,\n",
       " <h1>Lewis Carroll</h1>,\n",
       " <h1>The Millennium Fulcrum Edition 3.0</h1>,\n",
       " <a href=\"alice-small.txt\">small print</a>,\n",
       " <a href=\"ftp://uiarchive.cso.uiuc.edu/pub/etext/gutenberg/etext91/alice30.txt\">\n",
       " full ascii text</a>,\n",
       " <a href=\"ftp://uiarchive.cso.uiuc.edu/pub/etext/gutenberg/etext94/algif10.zip\">\n",
       " \"zip file\"</a>,\n",
       " <a href=\"algif-small.txt\">small print</a>,\n",
       " <a href=\"http://www.cs.cmu.edu/Web/People/rgs/rgs-home.html\">home page</a>,\n",
       " <a href=\"http://www.cs.cmu.edu/Web/bookauthors.html\">author</a>,\n",
       " <a href=\"http://www.cs.cmu.edu/Web/booktitles.html\">title</a>,\n",
       " <p>\n",
       " <a href=\"alice01a.gif\"><img src=\"alice01th.gif\"/></a>\n",
       " </p>,\n",
       " <a href=\"alice01a.gif\"><img src=\"alice01th.gif\"/></a>,\n",
       " <img src=\"alice01th.gif\"/>,\n",
       " <p>\n",
       " </p>,\n",
       " <h2>CONTENTS</h2>,\n",
       " <pre>\n",
       "     CHAPTER I:    <a href=\"alice-I.html\">Down the Rabbit-Hole</a>\n",
       "     CHAPTER II:   <a href=\"alice-II.html\">The Pool of Tears</a>\n",
       "     CHAPTER III:  <a href=\"alice-III.html\">A Caucus-Race and a Long Tale</a>\n",
       "     CHAPTER IV:   <a href=\"alice-IV.html\">The Rabbit Sends in a Little Bill</a>\n",
       "     CHAPTER V:    <a href=\"alice-V.html\">Advice from a Caterpillar</a>\n",
       "     CHAPTER VI:   <a href=\"alice-VI.html\">Pig and Pepper</a>\n",
       "     CHAPTER VII:  <a href=\"alice-VII.html\">A Mad Tea-Party</a>\n",
       "     CHAPTER VIII: <a href=\"alice-VIII.html\">The Queen's Croquet-Ground</a>\n",
       "     CHAPTER IX:   <a href=\"alice-IX.html\">The Mock Turtle's Story</a>\n",
       "     CHAPTER X:    <a href=\"alice-X.html\">The Lobster Quadrille</a>\n",
       "     CHAPTER XI:   <a href=\"alice-XI.html\">Who Stole the Tarts?</a>\n",
       "     CHAPTER XII:  <a href=\"alice-XII.html\">Alice's Evidence</a>\n",
       " </pre>,\n",
       " <a href=\"alice-I.html\">Down the Rabbit-Hole</a>,\n",
       " <a href=\"alice-II.html\">The Pool of Tears</a>,\n",
       " <a href=\"alice-III.html\">A Caucus-Race and a Long Tale</a>,\n",
       " <a href=\"alice-IV.html\">The Rabbit Sends in a Little Bill</a>,\n",
       " <a href=\"alice-V.html\">Advice from a Caterpillar</a>,\n",
       " <a href=\"alice-VI.html\">Pig and Pepper</a>,\n",
       " <a href=\"alice-VII.html\">A Mad Tea-Party</a>,\n",
       " <a href=\"alice-VIII.html\">The Queen's Croquet-Ground</a>,\n",
       " <a href=\"alice-IX.html\">The Mock Turtle's Story</a>,\n",
       " <a href=\"alice-X.html\">The Lobster Quadrille</a>,\n",
       " <a href=\"alice-XI.html\">Who Stole the Tarts?</a>,\n",
       " <a href=\"alice-XII.html\">Alice's Evidence</a>,\n",
       " <address><a href=\"mailto:rgs@cs.cmu.edu\">Robert Stockton</a></address>,\n",
       " <a href=\"mailto:rgs@cs.cmu.edu\">Robert Stockton</a>,\n",
       " <p>\n",
       " <a href=\"http://www.dbasics.com/cgi-bin/pages.cgi?143205747\"><img src=\"http://www.dbasics.com/cgi-bin/counter.cgi?143205747.2&amp;(none)\"/></a> Access statistics from htmlZine\n",
       " \n",
       " </p>,\n",
       " <a href=\"http://www.dbasics.com/cgi-bin/pages.cgi?143205747\"><img src=\"http://www.dbasics.com/cgi-bin/counter.cgi?143205747.2&amp;(none)\"/></a>,\n",
       " <img src=\"http://www.dbasics.com/cgi-bin/counter.cgi?143205747.2&amp;(none)\"/>]"
      ]
     },
     "execution_count": 42,
     "metadata": {},
     "output_type": "execute_result"
    }
   ],
   "source": [
    "soup.body()"
   ]
  },
  {
   "cell_type": "code",
   "execution_count": 11,
   "metadata": {},
   "outputs": [
    {
     "data": {
      "text/plain": [
       "'\\nAlice\\'s Adventures in Wonderland\\nLewis Carroll\\nThe Millennium Fulcrum Edition 3.0\\r\\n\\r\\nNOTE:  This is a hypertext formatted version of the Project Gutenberg edition.\\r\\nFor more information, check the \\r\\nsmall print \\r\\nor check out the \\r\\n\\r\\nfull ascii text.  The original Tenniel illustrations are also available \\r\\ndue to the efforts of Project Gutenberg.  You can if you like, grab them as a \\r\\n\\r\\n\"zip file\" or read the small print \\r\\nthat comes with them.\\r\\nThis document is part of a small, but growing collection of html formatted\\r\\netexts.  (Others may be found in either my home page or \\r\\nJohn Ockerbloom\\'s indexes by author and title.)\\r\\nI am still trying to figure out whether anyone else is interested in these \\r\\non-line readable documents.  If you appreciate this document or would like to \\r\\nsee more such, send me mail at \"rgs@cs.cmu.edu\". \\r\\n\\n\\n\\nCONTENTS\\n\\r\\n    CHAPTER I:    Down the Rabbit-Hole\\r\\n    CHAPTER II:   The Pool of Tears\\r\\n    CHAPTER III:  A Caucus-Race and a Long Tale\\r\\n    CHAPTER IV:   The Rabbit Sends in a Little Bill\\r\\n    CHAPTER V:    Advice from a Caterpillar\\r\\n    CHAPTER VI:   Pig and Pepper\\r\\n    CHAPTER VII:  A Mad Tea-Party\\r\\n    CHAPTER VIII: The Queen\\'s Croquet-Ground\\r\\n    CHAPTER IX:   The Mock Turtle\\'s Story\\r\\n    CHAPTER X:    The Lobster Quadrille\\r\\n    CHAPTER XI:   Who Stole the Tarts?\\r\\n    CHAPTER XII:  Alice\\'s Evidence\\r\\n\\nRobert Stockton\\n\\n Access statistics from htmlZine\\r\\n\\r\\n'"
      ]
     },
     "execution_count": 11,
     "metadata": {},
     "output_type": "execute_result"
    }
   ],
   "source": [
    "soup.body.get_text()"
   ]
  },
  {
   "cell_type": "code",
   "execution_count": 44,
   "metadata": {},
   "outputs": [],
   "source": [
    "content = soup.body.get_text()"
   ]
  },
  {
   "cell_type": "code",
   "execution_count": 43,
   "metadata": {},
   "outputs": [],
   "source": [
    "import re"
   ]
  },
  {
   "cell_type": "code",
   "execution_count": 45,
   "metadata": {},
   "outputs": [
    {
     "data": {
      "text/plain": [
       "'Alice Adventure in WonderlandLewi CarrollThe Millennium Fulcrum Edition 3.0NOTE:  Thi i a hypertext formatted verion of the Project Gutenberg edition.For more information check the mall print or check out the full acii text.  The original Tenniel illutration are alo available due to the effort of Project Gutenberg.  You can if you like grab them a a \"zip file\" or read the mall print that come with them.Thi document i part of a mall but growing collection of html formattedetext.  (Other may be found in either my home page or John Ockerbloom indexe by author and title.)I am till trying to figure out whether anyone ele i intereted in thee on-line readable document.  If you appreciate thi document or would like to ee more uch end me mail at \"rg@c.cmu.edu\". CONTENTS    CHAPTER I:    Down the Rabbit-Hole    CHAPTER II:   The Pool of Tear    CHAPTER III:  A Caucu-Race and a Long Tale    CHAPTER IV:   The Rabbit Send in a Little Bill    CHAPTER V:    Advice from a Caterpillar    CHAPTER VI:   Pig and Pepper    CHAPTER VII:  A Mad Tea-Party    CHAPTER VIII: The Queen Croquet-Ground    CHAPTER IX:   The Mock Turtle Story    CHAPTER X:    The Lobter Quadrille    CHAPTER XI:   Who Stole the Tart?    CHAPTER XII:  Alice EvidenceRobert Stockton Acce tatitic from htmlZine'"
      ]
     },
     "execution_count": 45,
     "metadata": {},
     "output_type": "execute_result"
    }
   ],
   "source": [
    "re.sub('[\\n,\\r,\\'s]', '', content)"
   ]
  },
  {
   "cell_type": "code",
   "execution_count": 46,
   "metadata": {},
   "outputs": [],
   "source": [
    "alphabets =list('abcdefghijklmnopqrstuvwxyz')\n",
    "content = re.sub('[\\n,\\r,\\'s]', '', content)"
   ]
  },
  {
   "cell_type": "code",
   "execution_count": null,
   "metadata": {},
   "outputs": [],
   "source": []
  },
  {
   "cell_type": "code",
   "execution_count": 28,
   "metadata": {},
   "outputs": [],
   "source": [
    "from collections import Counter"
   ]
  },
  {
   "cell_type": "code",
   "execution_count": 48,
   "metadata": {},
   "outputs": [
    {
     "data": {
      "text/plain": [
       "Counter({'A': 19,\n",
       "         'l': 51,\n",
       "         'i': 62,\n",
       "         'c': 31,\n",
       "         'e': 111,\n",
       "         ' ': 267,\n",
       "         'd': 28,\n",
       "         'v': 5,\n",
       "         'n': 49,\n",
       "         't': 80,\n",
       "         'u': 32,\n",
       "         'r': 57,\n",
       "         'W': 2,\n",
       "         'o': 68,\n",
       "         'a': 56,\n",
       "         'L': 4,\n",
       "         'w': 6,\n",
       "         'C': 17,\n",
       "         'T': 30,\n",
       "         'h': 36,\n",
       "         'M': 3,\n",
       "         'm': 28,\n",
       "         'F': 2,\n",
       "         'E': 16,\n",
       "         '3': 1,\n",
       "         '.': 11,\n",
       "         '0': 1,\n",
       "         'N': 3,\n",
       "         'O': 4,\n",
       "         ':': 13,\n",
       "         'y': 10,\n",
       "         'p': 11,\n",
       "         'x': 4,\n",
       "         'f': 18,\n",
       "         'P': 18,\n",
       "         'j': 2,\n",
       "         'G': 3,\n",
       "         'b': 15,\n",
       "         'g': 12,\n",
       "         'k': 7,\n",
       "         'Y': 1,\n",
       "         '\"': 4,\n",
       "         'z': 1,\n",
       "         '(': 1,\n",
       "         'J': 1,\n",
       "         ')': 1,\n",
       "         'I': 19,\n",
       "         '-': 5,\n",
       "         '@': 1,\n",
       "         'S': 5,\n",
       "         'H': 13,\n",
       "         'R': 16,\n",
       "         'D': 1,\n",
       "         'V': 5,\n",
       "         'B': 1,\n",
       "         'Q': 2,\n",
       "         'q': 1,\n",
       "         'X': 4,\n",
       "         '?': 1,\n",
       "         'Z': 1})"
      ]
     },
     "execution_count": 48,
     "metadata": {},
     "output_type": "execute_result"
    }
   ],
   "source": [
    "Counter(content)"
   ]
  },
  {
   "cell_type": "code",
   "execution_count": 30,
   "metadata": {},
   "outputs": [],
   "source": [
    "import pandas as pd"
   ]
  },
  {
   "cell_type": "code",
   "execution_count": 54,
   "metadata": {},
   "outputs": [
    {
     "data": {
      "text/plain": [
       "A     19\n",
       "l     51\n",
       "i     62\n",
       "c     31\n",
       "e    111\n",
       "     267\n",
       "d     28\n",
       "v      5\n",
       "n     49\n",
       "t     80\n",
       "u     32\n",
       "r     57\n",
       "W      2\n",
       "o     68\n",
       "a     56\n",
       "L      4\n",
       "w      6\n",
       "C     17\n",
       "T     30\n",
       "h     36\n",
       "M      3\n",
       "m     28\n",
       "F      2\n",
       "E     16\n",
       "3      1\n",
       ".     11\n",
       "0      1\n",
       "N      3\n",
       "O      4\n",
       ":     13\n",
       "y     10\n",
       "p     11\n",
       "x      4\n",
       "f     18\n",
       "P     18\n",
       "j      2\n",
       "G      3\n",
       "b     15\n",
       "g     12\n",
       "k      7\n",
       "Y      1\n",
       "\"      4\n",
       "z      1\n",
       "(      1\n",
       "J      1\n",
       ")      1\n",
       "I     19\n",
       "-      5\n",
       "@      1\n",
       "S      5\n",
       "H     13\n",
       "R     16\n",
       "D      1\n",
       "V      5\n",
       "B      1\n",
       "Q      2\n",
       "q      1\n",
       "X      4\n",
       "?      1\n",
       "Z      1\n",
       "dtype: int64"
      ]
     },
     "execution_count": 54,
     "metadata": {},
     "output_type": "execute_result"
    }
   ],
   "source": [
    "s = pd.Series(Counter(content))\n",
    "s"
   ]
  },
  {
   "cell_type": "code",
   "execution_count": 52,
   "metadata": {},
   "outputs": [],
   "source": [
    "import matplotlib.pyplot as plt"
   ]
  },
  {
   "cell_type": "code",
   "execution_count": 56,
   "metadata": {},
   "outputs": [
    {
     "data": {
      "text/plain": [
       "Z      1\n",
       "?      1\n",
       "0      1\n",
       "3      1\n",
       "Y      1\n",
       "z      1\n",
       "J      1\n",
       ")      1\n",
       "@      1\n",
       "(      1\n",
       "q      1\n",
       "B      1\n",
       "D      1\n",
       "F      2\n",
       "Q      2\n",
       "j      2\n",
       "W      2\n",
       "G      3\n",
       "M      3\n",
       "N      3\n",
       "\"      4\n",
       "L      4\n",
       "O      4\n",
       "X      4\n",
       "x      4\n",
       "V      5\n",
       "v      5\n",
       "S      5\n",
       "-      5\n",
       "w      6\n",
       "k      7\n",
       "y     10\n",
       ".     11\n",
       "p     11\n",
       "g     12\n",
       "H     13\n",
       ":     13\n",
       "b     15\n",
       "E     16\n",
       "R     16\n",
       "C     17\n",
       "f     18\n",
       "P     18\n",
       "I     19\n",
       "A     19\n",
       "m     28\n",
       "d     28\n",
       "T     30\n",
       "c     31\n",
       "u     32\n",
       "h     36\n",
       "n     49\n",
       "l     51\n",
       "a     56\n",
       "r     57\n",
       "i     62\n",
       "o     68\n",
       "t     80\n",
       "e    111\n",
       "     267\n",
       "dtype: int64"
      ]
     },
     "execution_count": 56,
     "metadata": {},
     "output_type": "execute_result"
    }
   ],
   "source": [
    "s.sort_values()"
   ]
  },
  {
   "cell_type": "code",
   "execution_count": null,
   "metadata": {},
   "outputs": [],
   "source": []
  }
 ],
 "metadata": {
  "kernelspec": {
   "display_name": "Python 3",
   "language": "python",
   "name": "python3"
  },
  "language_info": {
   "codemirror_mode": {
    "name": "ipython",
    "version": 3
   },
   "file_extension": ".py",
   "mimetype": "text/x-python",
   "name": "python",
   "nbconvert_exporter": "python",
   "pygments_lexer": "ipython3",
   "version": "3.7.6"
  }
 },
 "nbformat": 4,
 "nbformat_minor": 4
}
